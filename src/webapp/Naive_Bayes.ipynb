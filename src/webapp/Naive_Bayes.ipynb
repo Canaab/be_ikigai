{
 "cells": [
  {
   "cell_type": "code",
   "execution_count": 14,
   "metadata": {},
   "outputs": [],
   "source": [
    "import pandas as pd\n",
    "from sklearn.naive_bayes import GaussianNB"
   ]
  },
  {
   "cell_type": "code",
   "execution_count": 15,
   "metadata": {},
   "outputs": [],
   "source": [
    "clf = GaussianNB()"
   ]
  },
  {
   "cell_type": "code",
   "execution_count": 16,
   "metadata": {},
   "outputs": [],
   "source": [
    "csv=pd.read_csv(\"heart.csv\")"
   ]
  },
  {
   "cell_type": "code",
   "execution_count": 17,
   "metadata": {},
   "outputs": [
    {
     "data": {
      "text/plain": [
       "0      1\n",
       "1      1\n",
       "2      1\n",
       "3      1\n",
       "4      1\n",
       "5      1\n",
       "6      1\n",
       "7      1\n",
       "8      1\n",
       "9      1\n",
       "10     1\n",
       "11     1\n",
       "12     1\n",
       "13     1\n",
       "14     1\n",
       "15     1\n",
       "16     1\n",
       "17     1\n",
       "18     1\n",
       "19     1\n",
       "20     1\n",
       "21     1\n",
       "22     1\n",
       "23     1\n",
       "24     1\n",
       "25     1\n",
       "26     1\n",
       "27     1\n",
       "28     1\n",
       "29     1\n",
       "      ..\n",
       "273    0\n",
       "274    0\n",
       "275    0\n",
       "276    0\n",
       "277    0\n",
       "278    0\n",
       "279    0\n",
       "280    0\n",
       "281    0\n",
       "282    0\n",
       "283    0\n",
       "284    0\n",
       "285    0\n",
       "286    0\n",
       "287    0\n",
       "288    0\n",
       "289    0\n",
       "290    0\n",
       "291    0\n",
       "292    0\n",
       "293    0\n",
       "294    0\n",
       "295    0\n",
       "296    0\n",
       "297    0\n",
       "298    0\n",
       "299    0\n",
       "300    0\n",
       "301    0\n",
       "302    0\n",
       "Name: target, Length: 303, dtype: int64"
      ]
     },
     "execution_count": 17,
     "metadata": {},
     "output_type": "execute_result"
    }
   ],
   "source": [
    "csv.target"
   ]
  },
  {
   "cell_type": "code",
   "execution_count": 18,
   "metadata": {},
   "outputs": [],
   "source": [
    "from sklearn.model_selection import train_test_split\n",
    "y=csv.target\n",
    "x=csv.drop(['target'], axis=1)\n",
    "echantillon80pourcent, echantillon20pourcent, echantillon80pourcentSoluce, echantillon20pourcentSoluce = train_test_split(x, y, test_size=0.20, random_state=0)\n"
   ]
  },
  {
   "cell_type": "code",
   "execution_count": 19,
   "metadata": {},
   "outputs": [
    {
     "data": {
      "text/plain": [
       "GaussianNB(priors=None)"
      ]
     },
     "execution_count": 19,
     "metadata": {},
     "output_type": "execute_result"
    }
   ],
   "source": [
    "target=echantillon80pourcentSoluce\n",
    "clf.fit(echantillon80pourcent,target)"
   ]
  },
  {
   "cell_type": "code",
   "execution_count": 20,
   "metadata": {},
   "outputs": [
    {
     "data": {
      "text/plain": [
       "{'priors': None}"
      ]
     },
     "execution_count": 20,
     "metadata": {},
     "output_type": "execute_result"
    }
   ],
   "source": [
    "clf.get_params()"
   ]
  },
  {
   "cell_type": "code",
   "execution_count": 21,
   "metadata": {},
   "outputs": [],
   "source": [
    "result=clf.predict(echantillon20pourcent)"
   ]
  },
  {
   "cell_type": "code",
   "execution_count": 22,
   "metadata": {},
   "outputs": [
    {
     "data": {
      "text/plain": [
       "61"
      ]
     },
     "execution_count": 22,
     "metadata": {},
     "output_type": "execute_result"
    }
   ],
   "source": [
    "a=0\n",
    "for i in result:\n",
    "    a=a+1\n",
    "a"
   ]
  },
  {
   "cell_type": "code",
   "execution_count": 23,
   "metadata": {},
   "outputs": [
    {
     "data": {
      "text/plain": [
       "225    0\n",
       "152    1\n",
       "228    0\n",
       "201    0\n",
       "52     1\n",
       "245    0\n",
       "175    0\n",
       "168    0\n",
       "223    0\n",
       "217    0\n",
       "111    1\n",
       "135    1\n",
       "218    0\n",
       "12     1\n",
       "15     1\n",
       "66     1\n",
       "97     1\n",
       "90     1\n",
       "198    0\n",
       "103    1\n",
       "22     1\n",
       "212    0\n",
       "226    0\n",
       "264    0\n",
       "133    1\n",
       "216    0\n",
       "275    0\n",
       "270    0\n",
       "154    1\n",
       "55     1\n",
       "      ..\n",
       "255    0\n",
       "134    1\n",
       "8      1\n",
       "157    1\n",
       "241    0\n",
       "240    0\n",
       "81     1\n",
       "214    0\n",
       "167    0\n",
       "5      1\n",
       "59     1\n",
       "92     1\n",
       "274    0\n",
       "34     1\n",
       "145    1\n",
       "116    1\n",
       "188    0\n",
       "246    0\n",
       "7      1\n",
       "45     1\n",
       "129    1\n",
       "122    1\n",
       "63     1\n",
       "124    1\n",
       "227    0\n",
       "146    1\n",
       "302    0\n",
       "26     1\n",
       "108    1\n",
       "89     1\n",
       "Name: target, Length: 61, dtype: int64"
      ]
     },
     "execution_count": 23,
     "metadata": {},
     "output_type": "execute_result"
    }
   ],
   "source": [
    "echantillon20pourcentSoluce"
   ]
  },
  {
   "cell_type": "code",
   "execution_count": 26,
   "metadata": {},
   "outputs": [
    {
     "name": "stdout",
     "output_type": "stream",
     "text": [
      "class : 0, number of exemplaries: 111\n",
      "class : 1, number of exemplaries: 131\n",
      "class : 2, number of exemplaries: 0\n"
     ]
    }
   ],
   "source": [
    "for i in [0,1,2]:\n",
    "    print(\"class : %s, number of exemplaries: %s\" % (i, len(target[ target == i]) ) )"
   ]
  },
  {
   "cell_type": "code",
   "execution_count": 32,
   "metadata": {},
   "outputs": [
    {
     "name": "stdout",
     "output_type": "stream",
     "text": [
      "Number of error: 9\n",
      "Percentage of right prediction: 88.15789473684211\n"
     ]
    }
   ],
   "source": [
    "errors = sum(result != echantillon20pourcentSoluce) \n",
    "print(\"Number of error:\", errors)\n",
    "print( \"Percentage of right prediction:\", (76-errors)*100/76)  "
   ]
  },
  {
   "cell_type": "code",
   "execution_count": null,
   "metadata": {},
   "outputs": [],
   "source": []
  },
  {
   "cell_type": "code",
   "execution_count": null,
   "metadata": {},
   "outputs": [],
   "source": []
  },
  {
   "cell_type": "code",
   "execution_count": null,
   "metadata": {},
   "outputs": [],
   "source": []
  }
 ],
 "metadata": {
  "kernelspec": {
   "display_name": "Python 3",
   "language": "python",
   "name": "python3"
  },
  "language_info": {
   "codemirror_mode": {
    "name": "ipython",
    "version": 3
   },
   "file_extension": ".py",
   "mimetype": "text/x-python",
   "name": "python",
   "nbconvert_exporter": "python",
   "pygments_lexer": "ipython3",
   "version": "3.6.4"
  }
 },
 "nbformat": 4,
 "nbformat_minor": 2
}
